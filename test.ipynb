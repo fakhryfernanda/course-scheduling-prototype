{
 "cells": [
  {
   "cell_type": "code",
   "execution_count": 1,
   "metadata": {},
   "outputs": [],
   "source": [
    "from globals import *\n",
    "from utils import io\n",
    "from dataframes.subject import Subject\n",
    "from dataframes.curriculum import Curriculum\n",
    "from ga.genetic_algorithm import GeneticAlgorithm, ProblemContext"
   ]
  },
  {
   "cell_type": "code",
   "execution_count": 2,
   "metadata": {},
   "outputs": [],
   "source": [
    "subjects = Subject(\"csv/subjects.csv\")\n",
    "curriculum = Curriculum(\"csv/curriculum.csv\", subjects.df)\n",
    "\n",
    "context = ProblemContext(\n",
    "    curriculum=curriculum,\n",
    "    time_slot_indices=list(range(15)),\n",
    "    room_indices=list(range(16))\n",
    ")\n",
    "\n",
    "seed = io.import_all_txt_arrays(\"seed\")\n",
    "\n",
    "ga = GeneticAlgorithm(\n",
    "    context=context, \n",
    "    population_size=200,\n",
    "    max_generation=100,\n",
    "    seed=seed\n",
    ")"
   ]
  },
  {
   "cell_type": "markdown",
   "metadata": {},
   "source": [
    "## Testing"
   ]
  },
  {
   "cell_type": "markdown",
   "metadata": {},
   "source": [
    "### Generator"
   ]
  },
  {
   "cell_type": "code",
   "execution_count": 2,
   "metadata": {},
   "outputs": [],
   "source": [
    "# for i in range(1):\n",
    "#     ga.initialize_population()\n",
    "#     ga.export_population()"
   ]
  },
  {
   "cell_type": "markdown",
   "metadata": {},
   "source": [
    "### Crossover and Mutation"
   ]
  },
  {
   "cell_type": "code",
   "execution_count": 3,
   "metadata": {},
   "outputs": [],
   "source": [
    "# from utils import io\n",
    "# from ga.genome import Genome\n",
    "\n",
    "# for i in range(100):\n",
    "#     ga.initialize_population()\n",
    "#     parent1 = ga.population[0]\n",
    "#     parent2 = ga.population[1]\n",
    "#     io.export_to_txt(parent1.chromosome, \"debug\", f\"parent1.txt\")\n",
    "#     io.export_to_txt(parent2.chromosome, \"debug\", f\"parent2.txt\")\n",
    "\n",
    "#     child = ga.crossover(parent1=parent1.chromosome, parent2=parent2.chromosome)\n",
    "#     io.export_to_txt(child, \"debug\", f\"child.txt\")\n",
    "#     child = Genome(child)\n",
    "#     child.check_constraint(verbose=True)\n",
    "\n",
    "#     child.mutate()\n",
    "#     io.export_to_txt(child.chromosome, \"debug\", f\"mutated.txt\")\n",
    "#     child.check_constraint(verbose=True)\n"
   ]
  },
  {
   "cell_type": "markdown",
   "metadata": {},
   "source": [
    "## Run"
   ]
  },
  {
   "cell_type": "code",
   "execution_count": 4,
   "metadata": {},
   "outputs": [],
   "source": [
    "ga.run()"
   ]
  },
  {
   "cell_type": "code",
   "execution_count": null,
   "metadata": {},
   "outputs": [],
   "source": [
    "ga.plot_evaluation(\"average_distance\")"
   ]
  },
  {
   "cell_type": "code",
   "execution_count": null,
   "metadata": {},
   "outputs": [],
   "source": [
    "ga.plot_evaluation(\"average_size\")"
   ]
  },
  {
   "cell_type": "code",
   "execution_count": null,
   "metadata": {},
   "outputs": [],
   "source": [
    "ga.print_parallel_class_config(ga.best_genome)"
   ]
  },
  {
   "cell_type": "code",
   "execution_count": null,
   "metadata": {},
   "outputs": [],
   "source": [
    "ga.best_genome.calculate_average_distance()"
   ]
  }
 ],
 "metadata": {
  "kernelspec": {
   "display_name": "course-scheduling",
   "language": "python",
   "name": "python3"
  },
  "language_info": {
   "codemirror_mode": {
    "name": "ipython",
    "version": 3
   },
   "file_extension": ".py",
   "mimetype": "text/x-python",
   "name": "python",
   "nbconvert_exporter": "python",
   "pygments_lexer": "ipython3",
   "version": "3.13.3"
  }
 },
 "nbformat": 4,
 "nbformat_minor": 2
}
