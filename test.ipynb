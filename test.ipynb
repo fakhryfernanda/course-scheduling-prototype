{
 "cells": [
  {
   "cell_type": "code",
   "execution_count": 1,
   "metadata": {},
   "outputs": [],
   "source": [
    "%run main.py"
   ]
  },
  {
   "cell_type": "markdown",
   "metadata": {},
   "source": [
    "## Testing"
   ]
  },
  {
   "cell_type": "markdown",
   "metadata": {},
   "source": [
    "### Generator"
   ]
  },
  {
   "cell_type": "code",
   "execution_count": 2,
   "metadata": {},
   "outputs": [],
   "source": [
    "# for i in range(1):\n",
    "#     ga.initialize_population()\n",
    "#     ga.export_population()"
   ]
  },
  {
   "cell_type": "markdown",
   "metadata": {},
   "source": [
    "### Crossover and Mutation"
   ]
  },
  {
   "cell_type": "code",
   "execution_count": 3,
   "metadata": {},
   "outputs": [],
   "source": [
    "# from utils import io\n",
    "# from ga.genome import Genome\n",
    "\n",
    "# for i in range(100):\n",
    "#     ga.initialize_population()\n",
    "#     parent1 = ga.population[0]\n",
    "#     parent2 = ga.population[1]\n",
    "#     io.export_to_txt(parent1.chromosome, \"debug\", f\"parent1.txt\")\n",
    "#     io.export_to_txt(parent2.chromosome, \"debug\", f\"parent2.txt\")\n",
    "\n",
    "#     child = ga.crossover(parent1=parent1.chromosome, parent2=parent2.chromosome)\n",
    "#     io.export_to_txt(child, \"debug\", f\"child.txt\")\n",
    "#     child = Genome(child)\n",
    "#     child.check_constraint(verbose=True)\n",
    "\n",
    "#     child.mutate()\n",
    "#     io.export_to_txt(child.chromosome, \"debug\", f\"mutated.txt\")\n",
    "#     child.check_constraint(verbose=True)\n"
   ]
  },
  {
   "cell_type": "markdown",
   "metadata": {},
   "source": [
    "## Run"
   ]
  },
  {
   "cell_type": "code",
   "execution_count": 4,
   "metadata": {},
   "outputs": [],
   "source": [
    "ga.run()"
   ]
  },
  {
   "cell_type": "code",
   "execution_count": null,
   "metadata": {},
   "outputs": [],
   "source": [
    "ga.plot_evaluation(\"room_count\")"
   ]
  },
  {
   "cell_type": "code",
   "execution_count": null,
   "metadata": {},
   "outputs": [],
   "source": [
    "ga.plot_evaluation(\"average_distance\")"
   ]
  },
  {
   "cell_type": "code",
   "execution_count": null,
   "metadata": {},
   "outputs": [],
   "source": [
    "ga.print_parallel_class_config(ga.best_genome)"
   ]
  },
  {
   "cell_type": "code",
   "execution_count": null,
   "metadata": {},
   "outputs": [],
   "source": [
    "ga.best_genome.calculate_average_distance()"
   ]
  }
 ],
 "metadata": {
  "kernelspec": {
   "display_name": "course-scheduling",
   "language": "python",
   "name": "python3"
  },
  "language_info": {
   "codemirror_mode": {
    "name": "ipython",
    "version": 3
   },
   "file_extension": ".py",
   "mimetype": "text/x-python",
   "name": "python",
   "nbconvert_exporter": "python",
   "pygments_lexer": "ipython3",
   "version": "3.13.3"
  }
 },
 "nbformat": 4,
 "nbformat_minor": 2
}
