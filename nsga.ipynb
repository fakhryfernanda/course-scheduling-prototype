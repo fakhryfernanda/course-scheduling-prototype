{
 "cells": [
  {
   "cell_type": "code",
   "execution_count": 1,
   "metadata": {},
   "outputs": [],
   "source": [
    "from utils import io\n",
    "from globals import *\n",
    "from dataframes.subject import Subject\n",
    "from dataframes.curriculum import Curriculum\n",
    "from ga.genetic_algorithm import ProblemContext, GeneticAlgorithm\n",
    "from nsga.nsga import NSGA2"
   ]
  },
  {
   "cell_type": "code",
   "execution_count": 2,
   "metadata": {},
   "outputs": [],
   "source": [
    "subjects = Subject(\"csv/subjects.csv\")\n",
    "curriculum = Curriculum(\"csv/curriculum.csv\", subjects.df)\n",
    "\n",
    "context = ProblemContext(\n",
    "    curriculum=curriculum,\n",
    "    time_slot_indices=list(range(15)),\n",
    "    room_indices=list(range(16))\n",
    ")\n",
    "\n",
    "# ga = GeneticAlgorithm(\n",
    "#     context=context,\n",
    "#     population_size=100,\n",
    "#     max_generation=100\n",
    "# )\n",
    "\n",
    "seed = io.import_all_txt_arrays(\"seed\")\n",
    "\n",
    "nsga = NSGA2(\n",
    "    context=context,\n",
    "    population_size=200,\n",
    "    max_generation=100,\n",
    "    seed=seed\n",
    ")"
   ]
  },
  {
   "cell_type": "code",
   "execution_count": null,
   "metadata": {},
   "outputs": [],
   "source": [
    "nsga.plot_objective_space(connect_by_rank=True)"
   ]
  },
  {
   "cell_type": "code",
   "execution_count": 4,
   "metadata": {},
   "outputs": [],
   "source": [
    "nsga.run()"
   ]
  },
  {
   "cell_type": "code",
   "execution_count": null,
   "metadata": {},
   "outputs": [],
   "source": [
    "nsga.plot_objective_space(connect_by_rank=True)"
   ]
  },
  {
   "cell_type": "code",
   "execution_count": null,
   "metadata": {},
   "outputs": [],
   "source": [
    "nsga.plot_evaluation(\"average_distance\")"
   ]
  },
  {
   "cell_type": "code",
   "execution_count": null,
   "metadata": {},
   "outputs": [],
   "source": [
    "nsga.plot_evaluation(\"average_size\")"
   ]
  },
  {
   "cell_type": "code",
   "execution_count": null,
   "metadata": {},
   "outputs": [],
   "source": [
    "nsga.assign_crowding_distance()\n",
    "for front in nsga.fronts:\n",
    "    for genome in front:\n",
    "        print(genome.crowding_distance)\n",
    "    print()"
   ]
  },
  {
   "cell_type": "code",
   "execution_count": null,
   "metadata": {},
   "outputs": [],
   "source": [
    "pp = [g for g in nsga.population if g.calculate_average_distance() != 0]\n",
    "nsga.plot_objective_space(population = pp, connect_by_rank=True)"
   ]
  },
  {
   "cell_type": "code",
   "execution_count": null,
   "metadata": {},
   "outputs": [],
   "source": []
  }
 ],
 "metadata": {
  "kernelspec": {
   "display_name": "course-scheduling",
   "language": "python",
   "name": "python3"
  },
  "language_info": {
   "codemirror_mode": {
    "name": "ipython",
    "version": 3
   },
   "file_extension": ".py",
   "mimetype": "text/x-python",
   "name": "python",
   "nbconvert_exporter": "python",
   "pygments_lexer": "ipython3",
   "version": "3.13.3"
  }
 },
 "nbformat": 4,
 "nbformat_minor": 2
}
